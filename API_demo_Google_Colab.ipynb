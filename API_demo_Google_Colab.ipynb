{
  "nbformat": 4,
  "nbformat_minor": 0,
  "metadata": {
    "colab": {
      "provenance": [],
      "toc_visible": true,
      "include_colab_link": true
    },
    "kernelspec": {
      "name": "python3",
      "display_name": "Python 3"
    },
    "language_info": {
      "name": "python"
    }
  },
  "cells": [
    {
      "cell_type": "markdown",
      "metadata": {
        "id": "view-in-github",
        "colab_type": "text"
      },
      "source": [
        "<a href=\"https://colab.research.google.com/github/awandahl/openalex_api_colab/blob/main/API_demo_Google_Colab.ipynb\" target=\"_parent\"><img src=\"https://colab.research.google.com/assets/colab-badge.svg\" alt=\"Open In Colab\"/></a>"
      ]
    },
    {
      "cell_type": "markdown",
      "source": [
        "Google Colab notebooks enables you to write and execute Python code in your web browser.\n",
        "\n",
        "You can use this notebook to retrieve data through the OpenAlex API and to analyze and visualize the data using Python code."
      ],
      "metadata": {
        "id": "qe5vBgUWRAKV"
      }
    },
    {
      "cell_type": "markdown",
      "source": [
        "# API demo - Using Google Colab to retrieve and analyze API data"
      ],
      "metadata": {
        "id": "M9AfGu-1IZhR"
      }
    },
    {
      "cell_type": "markdown",
      "source": [
        "## 1. Retrieve all journal articles published in the period 2019-2023 by Leiden University"
      ],
      "metadata": {
        "id": "YPGX0UZOJiTU"
      }
    },
    {
      "cell_type": "markdown",
      "source": [
        "To retrieve the relevant works, you need to iterate over multiple API result pages, since each API call returns at most 200 works. Each call yields a `results` object and a `meta` object. The `meta` object has a property `next_cursor`, which provides a reference to the next results page. The `next_cursor` references can be used to iterate over the result pages and to retrieve all results."
      ],
      "metadata": {
        "id": "9slzgiJK8eWX"
      }
    },
    {
      "cell_type": "code",
      "execution_count": null,
      "metadata": {
        "id": "BLUlPT1xj4kG",
        "colab": {
          "base_uri": "https://localhost:8080/"
        },
        "outputId": "156fa9d8-a45d-4160-f99a-344b88649f0c"
      },
      "outputs": [
        {
          "output_type": "stream",
          "name": "stdout",
          "text": [
            "7421/7423: https://api.openalex.org/works?filter=authorships.institutions.ror:03dmz0111,publication_year:2019-2023,type:article,primary_location.source.type:journal&per-page=200&mailto=aw@kth.se&cursor=Ils2NS4wLCAwLCAnaHR0cHM6Ly9vcGVuYWxleC5vcmcvVzQzODY4MDE5MjgnXSI=\n",
            "Total works: 7421\n"
          ]
        }
      ],
      "source": [
        "import requests\n",
        "\n",
        "mailto = \"aw@kth.se\"  # @param {type:\"string\"}\n",
        "\n",
        "ror_id     = \"03dmz0111\"  # @param {type:\"string\"}\n",
        "start_year = 2019  # @param {type:\"slider\", min:2015, max:2023, step:1}\n",
        "end_year   = 2023  # @param {type:\"slider\", min:2015, max:2023, step:1}\n",
        "\n",
        "filter = f\"authorships.institutions.ror:{ror_id},publication_year:{start_year}-{end_year},type:article,primary_location.source.type:journal\"\n",
        "api_url = f\"https://api.openalex.org/works?filter={filter}&per-page=200&mailto={mailto}\"\n",
        "\n",
        "cursor = \"*\"  # Cursor for the first request\n",
        "works = []  # List to accumulate all results\n",
        "\n",
        "while cursor:\n",
        "    # Construct the request URL with the current cursor\n",
        "    request_url = api_url + f\"&cursor={cursor}\"\n",
        "\n",
        "    # Get results from the API\n",
        "    page = requests.get(request_url).json()\n",
        "    results = page.get('results')\n",
        "    meta = page.get('meta')\n",
        "\n",
        "    # Accumulate results\n",
        "    works += results\n",
        "\n",
        "    # Get the next cursor from the current results\n",
        "    cursor = meta.get('next_cursor')\n",
        "\n",
        "    # Print progress\n",
        "    total = int(meta.get(\"count\"))\n",
        "    print(f\"\\r{len(works)}/{total}: {request_url}\", end=\"\")\n",
        "\n",
        "# Do something with all results\n",
        "print(f\"\\nTotal works: {len(works)}\")"
      ]
    },
    {
      "cell_type": "markdown",
      "source": [
        "## 2. List the 10 most highly cited works\n",
        "    "
      ],
      "metadata": {
        "id": "J24ur_garope"
      }
    },
    {
      "cell_type": "markdown",
      "source": [
        "A simple approach is to sort the list of works based on the `cited_by_count` key and to then take the first 10 works.\n",
        "\n",
        "*Note: Sorting a list of dictionaries based on a key can be done by using the `sorted()` function in combination with a lambda (anonymous) function. The lambda function returns the relevant key for each work as it is being processed by the `sorted()` function.*"
      ],
      "metadata": {
        "id": "U7MJbtLesRtw"
      }
    },
    {
      "cell_type": "code",
      "source": [
        "# Sort the list of works based on the cited_by_count\n",
        "works_cited = sorted(\n",
        "    works,\n",
        "    key=lambda work: work.get(\"cited_by_count\"),\n",
        "    reverse=True  # Reverse the sort to have the most cited works first\n",
        ")\n",
        "\n",
        "# Take the first 10 works from the sorted list\n",
        "works_cited_top10 = works_cited[:10]\n",
        "\n",
        "# Print the header\n",
        "print(f\"{'cited_by_count':<20} {'title':<100} {'source'} \\n{'-' * 150}\")\n",
        "# Print the results\n",
        "for work in works_cited_top10:\n",
        "    cited_by_count = work['cited_by_count']\n",
        "    title = work['title'][:99]\n",
        "    source = work['primary_location']['source']['display_name']\n",
        "    print(f\"{cited_by_count:<20} {title:<100} {source}\")"
      ],
      "metadata": {
        "colab": {
          "base_uri": "https://localhost:8080/"
        },
        "id": "oEN1m5L5piVT",
        "outputId": "06fb07be-0202-4f6a-a4e5-bce7af967676"
      },
      "execution_count": null,
      "outputs": [
        {
          "output_type": "stream",
          "name": "stdout",
          "text": [
            "cited_by_count       title                                                                                                source \n",
            "------------------------------------------------------------------------------------------------------------------------------------------------------\n",
            "1507                 Surviving sepsis campaign: international guidelines for management of sepsis and septic shock 2021   Intensive Care Medicine\n",
            "946                  Surviving Sepsis Campaign: International Guidelines for Management of Sepsis and Septic Shock 2021   Critical Care Medicine\n",
            "661                  A living WHO guideline on drugs for covid-19                                                         The BMJ\n",
            "421                  Redefining Palliative Care—A New Consensus-Based Definition                                          Journal of Pain and Symptom Management\n",
            "415                  Genome-wide Association Studies in Ancestrally Diverse Populations: Opportunities, Methods, Pitfall  Cell\n",
            "350                  Synthesis and Application of Granular Activated Carbon from Biomass Waste Materials for Water Treat  Journal of Bioresources and Bioproducts\n",
            "344                  Coronavirus Disease-2019: Knowledge, Attitude, and Practices of Health Care Workers at Makerere Uni  Frontiers in Public Health\n",
            "332                  Advancing the global public health agenda for NAFLD: a consensus statement                           Nature Reviews Gastroenterology & Hepatology\n",
            "331                  The state of hypertension care in 44 low-income and middle-income countries: a cross-sectional stud  The Lancet\n",
            "245                  Community engagement for COVID-19 prevention and control: a rapid evidence synthesis                 BMJ Global Health\n"
          ]
        }
      ]
    },
    {
      "cell_type": "markdown",
      "source": [
        "## 3. List the 25 sources with the largest number of works and display the number of citations and average number of citations per work"
      ],
      "metadata": {
        "id": "FVR6cG9Ur4lp"
      }
    },
    {
      "cell_type": "markdown",
      "source": [
        "To aggregate over the results without using any complicated libraries we can construct a dictionary of sources.\n",
        "\n",
        "For each source we collect the identifier, name, and initialize the number of works and citations to 0. This leaves us with a dictionary of unique sources.\n",
        "\n",
        "In a next loop we can add the counts, by adding 1 to the relevant source for each work and adding the citations of that work to the total number of citations for the source.\n",
        "\n",
        "*(These steps could be done in a single loop, but for simplicity we separate the two steps)*\n",
        "\n",
        "Finally we calculate the average number of citations and sort the list."
      ],
      "metadata": {
        "id": "Kv0wvAlMtz24"
      }
    },
    {
      "cell_type": "code",
      "source": [
        "# Collect the sources\n",
        "sources = {}\n",
        "for work in works:\n",
        "    source = work[\"primary_location\"][\"source\"]\n",
        "    sources[source[\"id\"]] = {\n",
        "        \"id\": source[\"id\"].replace(\"https://openalex.org/\", \"\"),\n",
        "        \"display_name\": source[\"display_name\"],\n",
        "        \"cited_by_count\": 0,\n",
        "        \"works_count\": 0\n",
        "    }\n",
        "\n",
        "# Count works and citations\n",
        "for work in works:\n",
        "    source = work.get(\"primary_location\").get(\"source\")\n",
        "    sources[source[\"id\"]][\"cited_by_count\"] += work[\"cited_by_count\"]\n",
        "    sources[source[\"id\"]][\"works_count\"] += 1\n",
        "\n",
        "# Convert the dictionary into a list to make sorting easier\n",
        "sources_list = sources.values()\n",
        "\n",
        "# Calculate average number of citations for each source\n",
        "for source in sources_list:\n",
        "    source['cited_by_count_avg'] = round(source['cited_by_count'] / source['works_count'], 2)\n",
        "\n",
        "# Sort the list of sources\n",
        "sources_sorted = sorted(\n",
        "    sources_list,\n",
        "    key=lambda source: source[\"works_count\"],\n",
        "    reverse=True\n",
        ")\n",
        "\n",
        "# Take the first 25 source from the sorted list\n",
        "sources_sorted_top25 = sources_sorted[:25]\n",
        "\n",
        "# Print the list of sources\n",
        "print(f\"{'id':<15} {'source':<75} {'works_count':<15} {'cited_by_count':<15} {'avg_cited_by_count':<20} \\n{'-' * 150}\")\n",
        "for source in sources_sorted_top25:\n",
        "    id = source['id']\n",
        "    works_count = source['works_count']\n",
        "    cited_by_count = source['cited_by_count']\n",
        "    cited_by_count_avg = source['cited_by_count_avg']\n",
        "    name = source['display_name'][:74]\n",
        "    print(f\"{id:<15} {name:<75} {works_count:<15} {cited_by_count:<15} {cited_by_count_avg:<20}\")"
      ],
      "metadata": {
        "colab": {
          "base_uri": "https://localhost:8080/"
        },
        "id": "Y7YPA7CHu96a",
        "outputId": "b09fa2cc-4bbd-4b30-d1d2-7fc600e26819"
      },
      "execution_count": null,
      "outputs": [
        {
          "output_type": "stream",
          "name": "stdout",
          "text": [
            "id              source                                                                      works_count     cited_by_count  avg_cited_by_count   \n",
            "------------------------------------------------------------------------------------------------------------------------------------------------------\n",
            "S202381698      PLOS ONE                                                                    329             2890            8.78                \n",
            "S200437886      BMC Public Health                                                           123             1132            9.2                 \n",
            "S79054089       BMJ Open                                                                    107             603             5.64                \n",
            "S12898181       BMC Health Services Research                                                88              686             7.8                 \n",
            "S4210231901     PLOS global public health                                                   87              143             1.64                \n",
            "S93003929       Malaria Journal                                                             72              690             9.58                \n",
            "S171015910      BMC Infectious Diseases                                                     71              531             7.48                \n",
            "S2764928273     BMJ Global Health                                                           67              1431            21.36               \n",
            "S72350973       Clinical Infectious Diseases                                                62              652             10.52               \n",
            "S4210176958     The Lancet Global Health                                                    60              1127            18.78               \n",
            "S100045985      American Journal of Tropical Medicine and Hygiene                           51              487             9.55                \n",
            "S196734849      Scientific Reports                                                          51              433             8.49                \n",
            "S123732490      BMC Pregnancy and Childbirth                                                46              313             6.8                 \n",
            "S2735126445     Open Forum Infectious Diseases                                              44              220             5.0                 \n",
            "S66330005       Journal of the International AIDS Society                                   42              680             16.19               \n",
            "S157460402      Journal of Acquired Immune Deficiency Syndromes                             39              320             8.21                \n",
            "S15239247       International Journal of Environmental Research and Public Health           38              348             9.16                \n",
            "S46544255       PLOS Neglected Tropical Diseases                                            35              364             10.4                \n",
            "S10134376       Sustainability                                                              34              411             12.09               \n",
            "S6142729        AIDS and Behavior                                                           33              203             6.15                \n",
            "S105066276      Global Health Action                                                        33              215             6.52                \n",
            "S167982310      African Health Sciences                                                     33              107             3.24                \n",
            "S124285728      International Journal of Tuberculosis and Lung Disease                      32              133             4.16                \n",
            "S94788606       BMC Women's Health                                                          29              190             6.55                \n",
            "S48212443       Reproductive Health                                                         28              259             9.25                \n"
          ]
        }
      ]
    },
    {
      "cell_type": "markdown",
      "source": [
        "## 4. List all OA colors with number of works and relative number of works"
      ],
      "metadata": {
        "id": "1TQUuNQgsCuD"
      }
    },
    {
      "cell_type": "markdown",
      "source": [
        "For each `oa_status` we count the number of works, calculate the counts relative to the total number, and show the results.\n",
        "\n",
        "*Note: In the expression `oa[oa_status] = oa.get(oa_status, 0) + 1`, `oa.get(oa_status, 0)` evaluates to 0 if the current oa_status is not yet encountered in the list of works. This has the effect that the status will be added to the dictionary with a value of 1 if it is not yet present or incremented if it is already present.*"
      ],
      "metadata": {
        "id": "lD320qDQw6Ck"
      }
    },
    {
      "cell_type": "code",
      "source": [
        "# Collect and count the oa statuses\n",
        "oa = {}\n",
        "for work in works:\n",
        "    oa_status = work.get(\"open_access\").get(\"oa_status\")\n",
        "    oa[oa_status] = oa.get(oa_status, 0) + 1\n",
        "# oa_list = {\"hybrid\": 5241, \"gold\": 33716, ...}\n",
        "\n",
        "# Convert to a table\n",
        "oa_list = oa.items()\n",
        "# oa_list = [(\"hybrid\", 5241), (\"gold\", 33716), ...]\n",
        "\n",
        "# Sort the table\n",
        "oa_sorted = sorted(\n",
        "    oa_list,\n",
        "    key=lambda oa: oa[1],  # sort the table by the second column\n",
        "    reverse=True\n",
        ")\n",
        "\n",
        "# Print the sorted list\n",
        "print(f\"{'oa_status':<20} {'works_count':<20} {'works_count_relative':<20} \\n{'-' * 100}\")\n",
        "for status, works_count in oa_sorted:\n",
        "    relative = round(works_count / len(works) * 100, 2)\n",
        "    print(f\"{status:<20} {works_count:<20} {relative}\")"
      ],
      "metadata": {
        "colab": {
          "base_uri": "https://localhost:8080/"
        },
        "id": "iQdwNKo0w2NB",
        "outputId": "412afabc-fb97-4612-bf3d-a9b6f47e28dc"
      },
      "execution_count": null,
      "outputs": [
        {
          "output_type": "stream",
          "name": "stdout",
          "text": [
            "oa_status            works_count          works_count_relative \n",
            "----------------------------------------------------------------------------------------------------\n",
            "gold                 4232                 57.03\n",
            "closed               1329                 17.91\n",
            "hybrid               854                  11.51\n",
            "green                506                  6.82\n",
            "bronze               500                  6.74\n"
          ]
        }
      ]
    },
    {
      "cell_type": "markdown",
      "source": [
        "## 5. Create a pie chart showing the OA colors"
      ],
      "metadata": {
        "id": "9psBToeXsMB9"
      }
    },
    {
      "cell_type": "markdown",
      "source": [
        "There are two main libraries used for plotting data in Python: Matplotlib and Plotly. Matplotlib is the most established and 'Pythonic' way to create plots. Plotly is a more modern approach with which it is easy to create interactive charts."
      ],
      "metadata": {
        "id": "LRQWh4ScVuMh"
      }
    },
    {
      "cell_type": "code",
      "source": [
        "import plotly.express as px\n",
        "import matplotlib.pyplot as plt\n",
        "\n",
        "oa_names = oa.keys()     # [\"hybrid\", \"gold\", ...]\n",
        "oa_counts = oa.values()  # [5241, 3716, ...]\n",
        "\n",
        "plot_type = \"Matplotlib\" # @param [\"Matplotlib\", \"Plotly\"]\n",
        "if plot_type == \"Matplotlib\":\n",
        "    plt.pie(\n",
        "        oa_counts,\n",
        "        labels=oa_names,\n",
        "        startangle=90,\n",
        "        autopct='%1.0f%%'\n",
        "    )\n",
        "    plt.show()\n",
        "else:\n",
        "    fig = px.pie(\n",
        "        names=oa_names,\n",
        "        values=oa_counts\n",
        "    )\n",
        "    fig.show()\n"
      ],
      "metadata": {
        "colab": {
          "base_uri": "https://localhost:8080/",
          "height": 406
        },
        "id": "U9xkcgwIVnT7",
        "outputId": "58be3959-994a-43d3-f396-66bab5a2ae23"
      },
      "execution_count": null,
      "outputs": [
        {
          "output_type": "display_data",
          "data": {
            "text/plain": [
              "<Figure size 640x480 with 1 Axes>"
            ],
            "image/png": "[encoded data removed]"
          },
          "metadata": {}
        }
      ]
    },
    {
      "cell_type": "markdown",
      "source": [
        "## 6. Create a line chart showing the total number of publications and citations per year"
      ],
      "metadata": {
        "id": "VSbn4XA9sT49"
      }
    },
    {
      "cell_type": "markdown",
      "source": [
        "To create a line chart, we need two arrays, one for the x-axis and one for the y-axis. In this case we plot the publication years that we collect from the works on the x-axis and the counts on the y-axis."
      ],
      "metadata": {
        "id": "_cgjcH1hWOAC"
      }
    },
    {
      "cell_type": "code",
      "source": [
        "# Collect the years and count the works per year\n",
        "year_works_count = {}\n",
        "for work in works:\n",
        "    year = str(work.get(\"publication_year\"))\n",
        "    year_works_count[year] = year_works_count.get(year, 0) + 1\n",
        "\n",
        "# Convert to table\n",
        "year_works_count_list = year_works_count.items()\n",
        "\n",
        "# Sort the table by the first column\n",
        "year_works_count_sorted = sorted(year_works_count_list, key=lambda year: year[0])\n",
        "\n",
        "# Populate the x-axis\n",
        "years = [ year[0] for year in year_works_count_sorted ]\n",
        "# Populate the y-axis\n",
        "publications = [ year[1] for year in year_works_count_sorted ]\n",
        "\n",
        "plot_type = \"Matplotlib\" # @param [\"Matplotlib\", \"Plotly\"]\n",
        "if plot_type == \"Matplotlib\":\n",
        "    plt.plot(years, publications)\n",
        "    plt.ylim(0, max(publications) * 1.1)\n",
        "    plt.show()\n",
        "else:\n",
        "    fig = px.line(x=years, y=publications)\n",
        "    fig.show()"
      ],
      "metadata": {
        "colab": {
          "base_uri": "https://localhost:8080/",
          "height": 430
        },
        "id": "hBXNl4qnWwYb",
        "outputId": "8872833d-7779-49d0-81a8-ac3384eba9a8"
      },
      "execution_count": null,
      "outputs": [
        {
          "output_type": "display_data",
          "data": {
            "text/plain": [
              "<Figure size 640x480 with 1 Axes>"
            ],
            "image/png": "[encoded data removed]"
          },
          "metadata": {}
        }
      ]
    },
    {
      "cell_type": "code",
      "source": [
        "year_cited_by_count = {}\n",
        "for work in works:\n",
        "    year = str(work.get(\"publication_year\"))\n",
        "    year_cited_by_count[year] = year_cited_by_count.get(year, 0) + work.get(\"cited_by_count\", 0)\n",
        "\n",
        "year_cited_by_count_list = year_cited_by_count.items()\n",
        "year_cited_by_count_sorted = sorted(year_cited_by_count_list, key=lambda year: year[0])\n",
        "\n",
        "years = [ year[0] for year in year_cited_by_count_sorted ]\n",
        "citations = [ year[1] for year in year_cited_by_count_sorted ]\n",
        "\n",
        "plot_type = \"Matplotlib\" # @param [\"Matplotlib\", \"Plotly\"]\n",
        "if plot_type == \"Matplotlib\":\n",
        "    plt.plot(years, citations)\n",
        "    plt.ylim(0, max(citations) * 1.1)\n",
        "    plt.show()\n",
        "else:\n",
        "    fig = px.line(x=years, y=citations)\n",
        "    fig.show()\n"
      ],
      "metadata": {
        "colab": {
          "base_uri": "https://localhost:8080/",
          "height": 430
        },
        "id": "V1zV94UYewhZ",
        "outputId": "ce23c66f-3c84-4ac7-cb40-55c75b4c5115"
      },
      "execution_count": null,
      "outputs": [
        {
          "output_type": "display_data",
          "data": {
            "text/plain": [
              "<Figure size 640x480 with 1 Axes>"
            ],
            "image/png": "[encoded data removed]"
          },
          "metadata": {}
        }
      ]
    },
    {
      "cell_type": "markdown",
      "source": [
        "## 7. Create a world map showing the number of authorships per country"
      ],
      "metadata": {
        "id": "jZi4jT6Hsba1"
      }
    },
    {
      "cell_type": "markdown",
      "source": [
        "To create a world map of the authorships per country, we can use a choropleth map using the Plotly library.\n",
        "\n",
        "We can simply count the countries per authorship per work. But we need to sanitize the countries as OpenAlex provides ISO-2 country codes, while\n",
        "Plotly expects ISO-3 country codes. We can use the `country_converter` library for this.\n",
        "\n",
        "To create the choropleth map we need a geographic indicator, in this case a list of ISO-3 country codes, and a color indicator, in this case the authorship count per country. Optionally we can also include the full name of the countries as a label."
      ],
      "metadata": {
        "id": "ROe2ZIrO3-qa"
      }
    },
    {
      "cell_type": "code",
      "source": [
        "%pip install country_converter"
      ],
      "metadata": {
        "colab": {
          "base_uri": "https://localhost:8080/"
        },
        "id": "eIxKV-uziVNg",
        "outputId": "546dc906-da9b-4e32-873d-eb412d6d7bbf"
      },
      "execution_count": null,
      "outputs": [
        {
          "output_type": "stream",
          "name": "stdout",
          "text": [
            "Collecting country_converter\n",
            "  Downloading country_converter-1.2-py3-none-any.whl (45 kB)\n",
            "\u001b[?25l     \u001b[90m━━━━━━━━━━━━━━━━━━━━━━━━━━━━━━━━━━━━━━━━\u001b[0m \u001b[32m0.0/46.0 kB\u001b[0m \u001b[31m?\u001b[0m eta \u001b[36m-:--:--\u001b[0m\r\u001b[2K     \u001b[90m━━━━━━━━━━━━━━━━━━━━━━━━━━━━━━━━━━━━━━━━\u001b[0m \u001b[32m46.0/46.0 kB\u001b[0m \u001b[31m1.6 MB/s\u001b[0m eta \u001b[36m0:00:00\u001b[0m\n",
            "\u001b[?25hRequirement already satisfied: pandas>=1.0 in /usr/local/lib/python3.10/dist-packages (from country_converter) (1.5.3)\n",
            "Requirement already satisfied: python-dateutil>=2.8.1 in /usr/local/lib/python3.10/dist-packages (from pandas>=1.0->country_converter) (2.8.2)\n",
            "Requirement already satisfied: pytz>=2020.1 in /usr/local/lib/python3.10/dist-packages (from pandas>=1.0->country_converter) (2023.4)\n",
            "Requirement already satisfied: numpy>=1.21.0 in /usr/local/lib/python3.10/dist-packages (from pandas>=1.0->country_converter) (1.25.2)\n",
            "Requirement already satisfied: six>=1.5 in /usr/local/lib/python3.10/dist-packages (from python-dateutil>=2.8.1->pandas>=1.0->country_converter) (1.16.0)\n",
            "Installing collected packages: country_converter\n",
            "Successfully installed country_converter-1.2\n"
          ]
        }
      ]
    },
    {
      "cell_type": "code",
      "source": [
        "# Count the countries per authorship per work\n",
        "countries = {}\n",
        "for work in works:\n",
        "    for authorship in work.get(\"authorships\"):\n",
        "        for country in authorship.get(\"countries\"):\n",
        "            countries[country] = countries.get(country, 0) + 1\n",
        "\n",
        "# Optionally remove the Netherlands as a vast majority of Dutch authorships skew the data\n",
        "remove_netherlands = True # @param {type:\"boolean\"}\n",
        "if remove_netherlands:\n",
        "    del countries[\"NL\"]\n",
        "\n",
        "import country_converter as coco\n",
        "# Get the sanitized names from country_converer for the labels\n",
        "countries_names = coco.convert([name for name in countries.keys()], to='name_short')\n",
        "# Get ISO-3 codes from country_converer for the locations\n",
        "countries_iso = coco.convert([name for name in countries.keys()], to='ISO3')\n",
        "# Collect the counts for the colors on the map\n",
        "countries_counts = [count for count in countries.values()]\n",
        "\n",
        "fig = px.choropleth(\n",
        "    hover_name=countries_names,\n",
        "    locations=countries_iso,\n",
        "    locationmode='ISO-3',\n",
        "    color=countries_counts\n",
        ")\n",
        "fig.show()"
      ],
      "metadata": {
        "colab": {
          "base_uri": "https://localhost:8080/",
          "height": 216
        },
        "id": "C9vKizKIgXJv",
        "outputId": "6aabec77-a2f7-468f-ebe8-a63e728885fd"
      },
      "execution_count": null,
      "outputs": [
        {
          "output_type": "error",
          "ename": "ModuleNotFoundError",
          "evalue": "No module named 'country_converter'",
          "traceback": [
            "\u001b[0;31m---------------------------------------------------------------------------\u001b[0m",
            "\u001b[0;31mModuleNotFoundError\u001b[0m                       Traceback (most recent call last)",
            "\u001b[0;32m<ipython-input-10-665577b4844a>\u001b[0m in \u001b[0;36m<cell line: 13>\u001b[0;34m()\u001b[0m\n\u001b[1;32m     11\u001b[0m     \u001b[0;32mdel\u001b[0m \u001b[0mcountries\u001b[0m\u001b[0;34m[\u001b[0m\u001b[0;34m\"NL\"\u001b[0m\u001b[0;34m]\u001b[0m\u001b[0;34m\u001b[0m\u001b[0;34m\u001b[0m\u001b[0m\n\u001b[1;32m     12\u001b[0m \u001b[0;34m\u001b[0m\u001b[0m\n\u001b[0;32m---> 13\u001b[0;31m \u001b[0;32mimport\u001b[0m \u001b[0mcountry_converter\u001b[0m \u001b[0;32mas\u001b[0m \u001b[0mcoco\u001b[0m\u001b[0;34m\u001b[0m\u001b[0;34m\u001b[0m\u001b[0m\n\u001b[0m\u001b[1;32m     14\u001b[0m \u001b[0;31m# Get the sanitized names from country_converer for the labels\u001b[0m\u001b[0;34m\u001b[0m\u001b[0;34m\u001b[0m\u001b[0m\n\u001b[1;32m     15\u001b[0m \u001b[0mcountries_names\u001b[0m \u001b[0;34m=\u001b[0m \u001b[0mcoco\u001b[0m\u001b[0;34m.\u001b[0m\u001b[0mconvert\u001b[0m\u001b[0;34m(\u001b[0m\u001b[0;34m[\u001b[0m\u001b[0mname\u001b[0m \u001b[0;32mfor\u001b[0m \u001b[0mname\u001b[0m \u001b[0;32min\u001b[0m \u001b[0mcountries\u001b[0m\u001b[0;34m.\u001b[0m\u001b[0mkeys\u001b[0m\u001b[0;34m(\u001b[0m\u001b[0;34m)\u001b[0m\u001b[0;34m]\u001b[0m\u001b[0;34m,\u001b[0m \u001b[0mto\u001b[0m\u001b[0;34m=\u001b[0m\u001b[0;34m'name_short'\u001b[0m\u001b[0;34m)\u001b[0m\u001b[0;34m\u001b[0m\u001b[0;34m\u001b[0m\u001b[0m\n",
            "\u001b[0;31mModuleNotFoundError\u001b[0m: No module named 'country_converter'"
          ]
        }
      ]
    }
  ]
}